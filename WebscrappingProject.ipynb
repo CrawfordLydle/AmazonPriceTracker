{
 "cells": [
  {
   "cell_type": "code",
   "execution_count": null,
   "id": "660af118",
   "metadata": {},
   "outputs": [],
   "source": [
    "# import library\n",
    "\n",
    "from bs4 import BeautifulSoup\n",
    "import requests \n",
    "import smtplib\n",
    "import time \n",
    "import datetime\n",
    "import pandas as pd"
   ]
  },
  {
   "cell_type": "code",
   "execution_count": null,
   "id": "dc9466b2",
   "metadata": {},
   "outputs": [
    {
     "name": "stdout",
     "output_type": "stream",
     "text": [
      "ASUS ZenWiFi BT10 Tri-Band WiFi 7 Mesh, 18 Gbps, 6000 sq.ft (2pk), Dual 10G Ports, Security and Parental Controls Included, Smart Home Master SSIDs, 4G & 5G Mobile Tethering\n",
      "689.99\n"
     ]
    }
   ],
   "source": [
    "# Connect to Website\n",
    "\n",
    "URL = 'https://www.amazon.com/ASUS-BT10-Tri-Band-Security-Tethering/dp/B0D696CFBV/ref=sr_1_8?crid=O2SKFKX805KO&dib=eyJ2IjoiMSJ9.EsAVB1HU9QUzW_nlTxQGU6-HsQ1tW9Krj1MNATh7e61nn2Sy95FpFgoLq5HYNzajg2tM-un5SQaZOs2MwwLqyWmts362NaWFegYL_cnDEVGgHYLNzIVywXoPaGKiVZQ1qdzu3yLZAbsj8X1yxHmLy8rRm85bgVmD0TN55US531g9bIS4HyHeCV-_sKh8jj9wh-T2NJ4EqGwR36A54NokSs_IbsHuDwPQ3alpv3OijZ0.efzAI8RI9XBCHpbPTZgsDaS_TuVBSzBcS5k-GGya9hI&dib_tag=se&keywords=asus%2Bmesh%2Bsystem&qid=1759018852&sprefix=%2Caps%2C199&sr=8-8&th=1'\n",
    "\n",
    "\n",
    "headers = {\n",
    "    \"User-Agent\": \"Mozilla/5.0 (Windows NT 10.0; Win64; x64) \"\n",
    "                  \"AppleWebKit/537.36 (KHTML, like Gecko) \"\n",
    "                  \"Chrome/140.0.0.0 Safari/537.36\",\n",
    "    \"Accept-Language\": \"en-US,en;q=0.9\"\n",
    "}\n",
    "\n",
    "page = requests.get(URL, headers=headers)\n",
    "\n",
    "soup1 = BeautifulSoup(page.content, \"html.parser\")\n",
    "\n",
    "soup2 = BeautifulSoup(soup1.prettify(), \"html.parser\")\n",
    "\n",
    "title = soup2.find(id=\"productTitle\").get_text(strip=True)\n",
    "\n",
    "price = soup2.find(\"span\", class_=\"aok-offscreen\").get_text(strip=True)\n",
    "price = price.strip()[1:]\n",
    "\n",
    "print(title)\n",
    "print(price)\n"
   ]
  },
  {
   "cell_type": "code",
   "execution_count": null,
   "id": "7e322842",
   "metadata": {},
   "outputs": [
    {
     "name": "stdout",
     "output_type": "stream",
     "text": [
      "2025-09-27\n"
     ]
    }
   ],
   "source": [
    "# gets todays date\n",
    "\n",
    "today = datetime.date.today()\n",
    "print(today)"
   ]
  },
  {
   "cell_type": "code",
   "execution_count": null,
   "id": "4d30c889",
   "metadata": {},
   "outputs": [],
   "source": [
    "# adding data to csv\n",
    "import csv\n",
    "\n",
    "header = ['Title', 'Price', 'Date']\n",
    "data = [title, price, today]\n",
    "\n",
    "with open('AmazonWebScraperDataset.csv', 'w', newline='', encoding='UTF8') as f:\n",
    "    writer = csv.writer(f)\n",
    "    writer.writerow(header)\n",
    "    writer.writerow(data)"
   ]
  },
  {
   "cell_type": "code",
   "execution_count": 22,
   "id": "68e3f232",
   "metadata": {},
   "outputs": [
    {
     "name": "stdout",
     "output_type": "stream",
     "text": [
      "                                               Title   Price        Date\n",
      "0  ASUS ZenWiFi BT10 Tri-Band WiFi 7 Mesh, 18 Gbp...  689.99  2025-09-27\n"
     ]
    }
   ],
   "source": [
    "# printing csv\n",
    "df = pd.read_csv(r\"D:\\DataAnalytics\\WebScrappingAndPandas\\AmazonWebScraperDataset.csv\")\n",
    "\n",
    "print(df)"
   ]
  },
  {
   "cell_type": "code",
   "execution_count": null,
   "id": "47d62e4c",
   "metadata": {},
   "outputs": [],
   "source": [
    "# appending data to csv\n",
    "\n",
    "with open('AmazonWebScraperDataset.csv', 'w', newline='', encoding='UTF8') as f:\n",
    "    writer = csv.writer(f)\n",
    "    writer.writerow(data)"
   ]
  },
  {
   "cell_type": "code",
   "execution_count": null,
   "id": "ba1ad628",
   "metadata": {},
   "outputs": [],
   "source": [
    "# Combine all of the above code into one function\n",
    "\n",
    "\n",
    "def check_price():\n",
    "    URL = 'https://www.amazon.com/ASUS-BT10-Tri-Band-Security-Tethering/dp/B0D696CFBV/ref=sr_1_8?crid=O2SKFKX805KO&dib=eyJ2IjoiMSJ9.EsAVB1HU9QUzW_nlTxQGU6-HsQ1tW9Krj1MNATh7e61nn2Sy95FpFgoLq5HYNzajg2tM-un5SQaZOs2MwwLqyWmts362NaWFegYL_cnDEVGgHYLNzIVywXoPaGKiVZQ1qdzu3yLZAbsj8X1yxHmLy8rRm85bgVmD0TN55US531g9bIS4HyHeCV-_sKh8jj9wh-T2NJ4EqGwR36A54NokSs_IbsHuDwPQ3alpv3OijZ0.efzAI8RI9XBCHpbPTZgsDaS_TuVBSzBcS5k-GGya9hI&dib_tag=se&keywords=asus%2Bmesh%2Bsystem&qid=1759018852&sprefix=%2Caps%2C199&sr=8-8&th=1'\n",
    "\n",
    "    headers = {\n",
    "        \"User-Agent\": \"Mozilla/5.0 (Windows NT 10.0; Win64; x64) \"\n",
    "                  \"AppleWebKit/537.36 (KHTML, like Gecko) \"\n",
    "                  \"Chrome/140.0.0.0 Safari/537.36\",\n",
    "        \"Accept-Language\": \"en-US,en;q=0.9\"\n",
    "    }\n",
    "\n",
    "    page = requests.get(URL, headers=headers)\n",
    "\n",
    "    soup1 = BeautifulSoup(page.content, \"html.parser\")\n",
    "\n",
    "    soup2 = BeautifulSoup(soup1.prettify(), \"html.parser\")\n",
    "\n",
    "    title = soup2.find(id=\"productTitle\").get_text(strip=True)\n",
    "\n",
    "    price = soup2.find(\"span\", class_=\"aok-offscreen\").get_text(strip=True)\n",
    "    price = price.strip()[1:]\n",
    "\n",
    "    import datetime\n",
    "\n",
    "    today = datetime.date.today()\n",
    "    \n",
    "    import csv \n",
    "\n",
    "    header = ['Title', 'Price', 'Date']\n",
    "    data = [title, price, today]\n",
    "\n",
    "    with open('AmazonWebScraperDataset.csv', 'a+', newline='', encoding='UTF8') as f:\n",
    "        writer = csv.writer(f)\n",
    "        writer.writerow(data)"
   ]
  },
  {
   "cell_type": "code",
   "execution_count": null,
   "id": "3f54d53b",
   "metadata": {},
   "outputs": [],
   "source": [
    "# checks price once a day\n",
    "\n",
    "while(True):\n",
    "    check_price()\n",
    "    time.sleep(86400)"
   ]
  },
  {
   "cell_type": "code",
   "execution_count": null,
   "id": "88b51cce",
   "metadata": {},
   "outputs": [],
   "source": []
  },
  {
   "cell_type": "code",
   "execution_count": null,
   "id": "8d06bd30",
   "metadata": {},
   "outputs": [],
   "source": []
  }
 ],
 "metadata": {
  "kernelspec": {
   "display_name": "base",
   "language": "python",
   "name": "python3"
  },
  "language_info": {
   "codemirror_mode": {
    "name": "ipython",
    "version": 3
   },
   "file_extension": ".py",
   "mimetype": "text/x-python",
   "name": "python",
   "nbconvert_exporter": "python",
   "pygments_lexer": "ipython3",
   "version": "3.13.5"
  }
 },
 "nbformat": 4,
 "nbformat_minor": 5
}
